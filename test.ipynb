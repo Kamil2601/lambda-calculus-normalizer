{
 "cells": [
  {
   "cell_type": "code",
   "execution_count": 2,
   "metadata": {},
   "outputs": [],
   "source": [
    "from importlib import reload\n",
    "\n",
    "import language\n",
    "import normalizer\n",
    "import parser\n",
    "\n",
    "reload(language)\n",
    "reload(normalizer)\n",
    "reload(parser)\n",
    "\n",
    "from language import *\n",
    "from normalizer import *\n",
    "from parser import *"
   ]
  },
  {
   "cell_type": "code",
   "execution_count": 3,
   "metadata": {},
   "outputs": [],
   "source": [
    "def print_normalized(term_str: str):\n",
    "    term = parse_term(term_str)\n",
    "    print(f\"Parsed term: {term}\")\n",
    "    desugared = desugar(term)\n",
    "    print(f\"Desugared: {desugared}\")\n",
    "    db_term, fv = normal_to_deBruijn(desugared)\n",
    "    print(f\"de Bruijn indices: {db_term}\")\n",
    "    # print(f\"free variables: {free_vars}\")\n",
    "\n",
    "    db_normalized = normalize_subst_no(db_term)\n",
    "    print(f\"deBruijn normalized: {db_normalized}\")\n",
    "\n",
    "    normalized = deBruijn_to_normal(db_normalized, fv)\n",
    "    print(f\"normalized with variables: {normalized}\")"
   ]
  },
  {
   "cell_type": "code",
   "execution_count": 4,
   "metadata": {},
   "outputs": [
    {
     "name": "stdout",
     "output_type": "stream",
     "text": [
      "Parsed term: λx. ((λx. x) x) y\n",
      "Desugared: λx. ((λx. x) x) y\n",
      "de Bruijn indices: λ. ((λ. 0) 0) 1\n",
      "deBruijn normalized: λ. 0 1\n",
      "normalized with variables: λx0. x0 y\n",
      "------------------------------------\n",
      "Parsed term: add (1) (2)\n",
      "Desugared: ((λm. λn. λs. λz. (m s) ((n s) z)) (λs. λz. s z)) (λs. λz. s (s z))\n",
      "de Bruijn indices: ((λ. λ. λ. λ. (3 1) ((2 1) 0)) (λ. λ. 1 0)) (λ. λ. 1 (1 0))\n",
      "deBruijn normalized: λ. λ. 1 (1 (1 0))\n",
      "normalized with variables: λx0. λx1. x0 (x0 (x0 x1))\n",
      "------------------------------------\n",
      "Parsed term: head (cons (3) (cons (4) (cons (5) (nil))))\n",
      "Desugared: (λl. (l (λh. λt. h)) (λt. λf. f)) (((λh. λt. λc. λn. (c h) ((t c) n)) (λs. λz. s (s (s z)))) (((λh. λt. λc. λn. (c h) ((t c) n)) (λs. λz. s (s (s (s z))))) (((λh. λt. λc. λn. (c h) ((t c) n)) (λs. λz. s (s (s (s (s z)))))) (λc. λn. n))))\n",
      "de Bruijn indices: (λ. (0 (λ. λ. 1)) (λ. λ. 0)) (((λ. λ. λ. λ. (1 3) ((2 1) 0)) (λ. λ. 1 (1 (1 0)))) (((λ. λ. λ. λ. (1 3) ((2 1) 0)) (λ. λ. 1 (1 (1 (1 0))))) (((λ. λ. λ. λ. (1 3) ((2 1) 0)) (λ. λ. 1 (1 (1 (1 (1 0)))))) (λ. λ. 0))))\n",
      "deBruijn normalized: λ. λ. 1 (1 (1 0))\n",
      "normalized with variables: λx0. λx1. x0 (x0 (x0 x1))\n",
      "------------------------------------\n",
      "Parsed term: (true) (false)\n",
      "Desugared: (λt. λf. t) (λt. λf. f)\n",
      "de Bruijn indices: (λ. λ. 1) (λ. λ. 0)\n",
      "deBruijn normalized: λ. λ. λ. 0\n",
      "normalized with variables: λx0. λx1. λx2. x2\n"
     ]
    }
   ],
   "source": [
    "print_normalized(\"lambda x. (lambda x.x) x y\")\n",
    "print(\"------------------------------------\")\n",
    "print_normalized(\"add 1 2\")\n",
    "print(\"------------------------------------\")\n",
    "print_normalized(\"head (cons 3 (cons 4 (cons 5 nil)))\")\n",
    "print(\"------------------------------------\")\n",
    "print_normalized(\"true false\")"
   ]
  },
  {
   "cell_type": "code",
   "execution_count": 5,
   "metadata": {},
   "outputs": [
    {
     "name": "stdout",
     "output_type": "stream",
     "text": [
      "Parsed term: (((x y) z) (true)) (false)\n",
      "Desugared: (((x y) z) (λt. λf. t)) (λt. λf. f)\n",
      "de Bruijn indices: (((0 1) 2) (λ. λ. 1)) (λ. λ. 0)\n",
      "deBruijn normalized: (((0 1) 2) (λ. λ. 1)) (λ. λ. 0)\n",
      "normalized with variables: (((x y) z) (λx0. λx1. x0)) (λx0. λx1. x1)\n"
     ]
    }
   ],
   "source": [
    "print_normalized(\"x y z true false\")"
   ]
  },
  {
   "cell_type": "code",
   "execution_count": 6,
   "metadata": {},
   "outputs": [],
   "source": [
    "# print_normalized(\"true false\")"
   ]
  },
  {
   "cell_type": "code",
   "execution_count": 7,
   "metadata": {},
   "outputs": [
    {
     "name": "stdout",
     "output_type": "stream",
     "text": [
      "Parsed term: λy. (λx. λy. y) y\n",
      "Desugared: λy. (λx. λy. y) y\n",
      "de Bruijn indices: λ. (λ. λ. 0) 0\n",
      "deBruijn normalized: λ. λ. 0\n",
      "normalized with variables: λx0. λx1. x1\n"
     ]
    }
   ],
   "source": [
    "print_normalized(\"lambda y. (lambda x. lambda y. y) y\")"
   ]
  },
  {
   "cell_type": "code",
   "execution_count": 8,
   "metadata": {},
   "outputs": [
    {
     "name": "stdout",
     "output_type": "stream",
     "text": [
      "Parsed term: λy. (λx. λy. x) y\n",
      "Desugared: λy. (λx. λy. x) y\n",
      "de Bruijn indices: λ. (λ. λ. 1) 0\n",
      "deBruijn normalized: λ. λ. 1\n",
      "normalized with variables: λx0. λx1. x0\n"
     ]
    }
   ],
   "source": [
    "print_normalized(\"lambda y. (lambda x. lambda y. x) y\")"
   ]
  },
  {
   "cell_type": "code",
   "execution_count": 9,
   "metadata": {},
   "outputs": [],
   "source": [
    "def print_comparison(term_str_1, term_str_2):\n",
    "    clo1 = parse_term_to_deBruijn(term_str_1)\n",
    "    clo2 = parse_term_to_deBruijn(term_str_2)\n",
    "    print(beta_equal(clo1, clo2))"
   ]
  },
  {
   "cell_type": "code",
   "execution_count": 11,
   "metadata": {},
   "outputs": [
    {
     "name": "stdout",
     "output_type": "stream",
     "text": [
      "Parsed term: λy. (λx. λy. x) y\n",
      "Desugared: λy. (λx. λy. x) y\n",
      "de Bruijn indices: λ. (λ. λ. 1) 0\n",
      "deBruijn normalized: λ. λ. 1\n",
      "normalized with variables: λx0. λx1. x0\n"
     ]
    }
   ],
   "source": [
    "print_normalized(\"lambda y.  (lambda x. lambda y. x) y\")"
   ]
  },
  {
   "cell_type": "code",
   "execution_count": 12,
   "metadata": {},
   "outputs": [
    {
     "name": "stdout",
     "output_type": "stream",
     "text": [
      "Parsed term: add (5) (0)\n",
      "Desugared: ((λm. λn. λs. λz. (m s) ((n s) z)) (λs. λz. s (s (s (s (s z)))))) (λs. λz. z)\n",
      "de Bruijn indices: ((λ. λ. λ. λ. (3 1) ((2 1) 0)) (λ. λ. 1 (1 (1 (1 (1 0)))))) (λ. λ. 0)\n",
      "deBruijn normalized: λ. λ. 1 (1 (1 (1 (1 0))))\n",
      "normalized with variables: λx0. λx1. x0 (x0 (x0 (x0 (x0 x1))))\n"
     ]
    }
   ],
   "source": [
    "print_normalized(\"add 1 0\")\n",
    "print_normalized(\"(lambda m. lambda n. lambda s. lambda z. (3 1) ((2 1) 0)) (lambda s. lambda z. 1 0)\")\n",
    "print_normalized(\"(lambda m. lambda n. lambda s. lambda z. (m s) ((n s) z)) (lambda s. lambda z. s z)\")\n",
    "print_normalized(\"add 5 0\")"
   ]
  },
  {
   "cell_type": "code",
   "execution_count": 13,
   "metadata": {},
   "outputs": [
    {
     "name": "stdout",
     "output_type": "stream",
     "text": [
      "True\n",
      "False\n",
      "True\n"
     ]
    }
   ],
   "source": [
    "print_comparison(\"lambda x. x\", \"lambda y. y\")\n",
    "print_comparison(\"lambda x. x\", \"lambda y. z\")\n",
    "print_comparison(\"head (cons 5 nil)\", \"add 2 3\")"
   ]
  }
 ],
 "metadata": {
  "interpreter": {
   "hash": "916dbcbb3f70747c44a77c7bcd40155683ae19c65e1c03b4aa3499c5328201f1"
  },
  "kernelspec": {
   "display_name": "Python 3.8.10 64-bit",
   "language": "python",
   "name": "python3"
  },
  "language_info": {
   "codemirror_mode": {
    "name": "ipython",
    "version": 3
   },
   "file_extension": ".py",
   "mimetype": "text/x-python",
   "name": "python",
   "nbconvert_exporter": "python",
   "pygments_lexer": "ipython3",
   "version": "3.10.6"
  },
  "orig_nbformat": 4
 },
 "nbformat": 4,
 "nbformat_minor": 2
}
